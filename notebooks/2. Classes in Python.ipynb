{
 "cells": [
  {
   "cell_type": "markdown",
   "metadata": {},
   "source": [
    "## Obejct Oriented Programming"
   ]
  },
  {
   "cell_type": "markdown",
   "metadata": {},
   "source": [
    "When you think about **programming** you might imagine functions that takes some information as input, makes some transformation and gives an output. **Obejct-oriented programming** is programming paradigm based on the following idea: data and functions that work on this data are combined together in entities called *objects*. All these objects together create a program."
   ]
  },
  {
   "cell_type": "markdown",
   "metadata": {},
   "source": [
    "The basic concepts of obejct-oriented programming in python are **classes**. These can be seen as *prototypes* of objects: by creating a class, you define a new type of object with specific functionalities.\n",
    "Data can be stored in variables that are part of a class, object. Such variables are called **fields**. Classes can also have functions that define *actions* (that we can use to actually do something with it). These functions are called **methods**. Methods and fields are **attributes** of a class."
   ]
  },
  {
   "cell_type": "markdown",
   "metadata": {},
   "source": [
    "In python everything is an object!"
   ]
  },
  {
   "cell_type": "markdown",
   "metadata": {},
   "source": [
    "**Example**: d is an instance of the class `dict` in python\n"
   ]
  },
  {
   "cell_type": "code",
   "execution_count": 1,
   "metadata": {},
   "outputs": [],
   "source": [
    "d = {'a':1,'b':2,'c':3} #d is an instance of the class dict in python"
   ]
  },
  {
   "cell_type": "code",
   "execution_count": 9,
   "metadata": {},
   "outputs": [
    {
     "data": {
      "text/plain": [
       "1"
      ]
     },
     "execution_count": 9,
     "metadata": {},
     "output_type": "execute_result"
    }
   ],
   "source": [
    "d['a']"
   ]
  },
  {
   "cell_type": "code",
   "execution_count": 2,
   "metadata": {},
   "outputs": [
    {
     "data": {
      "text/plain": [
       "dict"
      ]
     },
     "execution_count": 2,
     "metadata": {},
     "output_type": "execute_result"
    }
   ],
   "source": [
    "type(d)"
   ]
  },
  {
   "cell_type": "markdown",
   "metadata": {},
   "source": [
    "`keys()` is a method of the class `dict` that returns the keys of the dictionary"
   ]
  },
  {
   "cell_type": "code",
   "execution_count": 8,
   "metadata": {},
   "outputs": [
    {
     "data": {
      "text/plain": [
       "dict_keys(['a', 'b', 'c'])"
      ]
     },
     "execution_count": 8,
     "metadata": {},
     "output_type": "execute_result"
    }
   ],
   "source": [
    "d.keys()"
   ]
  },
  {
   "cell_type": "markdown",
   "metadata": {},
   "source": [
    "## Building custom classes"
   ]
  },
  {
   "cell_type": "markdown",
   "metadata": {},
   "source": [
    "In python you can build your own classes! This is very important because we work with the object-oriented paradigm and in this course we will build a lot of custom classes. So let's start with a simple example:"
   ]
  },
  {
   "cell_type": "markdown",
   "metadata": {},
   "source": [
    "### Example"
   ]
  },
  {
   "cell_type": "markdown",
   "metadata": {},
   "source": [
    "To create a class in python you need to start with `class` (like `def` when you define functions)"
   ]
  },
  {
   "cell_type": "code",
   "execution_count": 2,
   "metadata": {},
   "outputs": [],
   "source": [
    "class MyClass:\n",
    "    \"\"\"A simple example class\"\"\"\n",
    "    i = 12345\n"
   ]
  },
  {
   "cell_type": "markdown",
   "metadata": {},
   "source": [
    "``MyClass.i`` is an attributes reference that first returns an integer"
   ]
  },
  {
   "cell_type": "markdown",
   "metadata": {},
   "source": [
    "Calling the class name creates an instance of a class that inherits all the class attributes (in this case i)"
   ]
  },
  {
   "cell_type": "code",
   "execution_count": 3,
   "metadata": {},
   "outputs": [],
   "source": [
    "# the instance is created and assigned to the local variable x\n",
    "x = MyClass()"
   ]
  },
  {
   "cell_type": "code",
   "execution_count": 4,
   "metadata": {},
   "outputs": [
    {
     "data": {
      "text/plain": [
       "12345"
      ]
     },
     "execution_count": 4,
     "metadata": {},
     "output_type": "execute_result"
    }
   ],
   "source": [
    "x.i"
   ]
  },
  {
   "cell_type": "markdown",
   "metadata": {},
   "source": [
    "This was not very useful....let's try to extend the class and define a **method** for the class."
   ]
  },
  {
   "cell_type": "markdown",
   "metadata": {},
   "source": [
    "## The `self`"
   ]
  },
  {
   "cell_type": "markdown",
   "metadata": {},
   "source": [
    "**One important thing** you need to know when creating classes in python is the usage of `self`, that makes them different from standard functions:\n",
    "\n",
    "`self` is a name that you need to add at the beginning of each parameters you define for a class. It does not have a value but it represents a way that Python uses to refer to the object itself when an instance is created."
   ]
  },
  {
   "cell_type": "markdown",
   "metadata": {},
   "source": [
    "### Example"
   ]
  },
  {
   "cell_type": "markdown",
   "metadata": {},
   "source": [
    "Let's extend the class above by creating a method"
   ]
  },
  {
   "cell_type": "code",
   "execution_count": 5,
   "metadata": {},
   "outputs": [],
   "source": [
    "class MyClass:\n",
    "    \"\"\"A simple example class\"\"\"\n",
    "    i = 12345\n",
    "    \n",
    "    def method(se￼￼lf):\n",
    "        print('Hello!')\n"
   ]
  },
  {
   "cell_type": "code",
   "execution_count": 6,
   "metadata": {},
   "outputs": [],
   "source": [
    "object_x = MyClass()"
   ]
  },
  {
   "cell_type": "code",
   "execution_count": 7,
   "metadata": {},
   "outputs": [
    {
     "name": "stdout",
     "output_type": "stream",
     "text": [
      "Hello!\n"
     ]
    }
   ],
   "source": [
    "object_x.method()"
   ]
  },
  {
   "cell_type": "markdown",
   "metadata": {},
   "source": [
    "The self is a way that Python uses to refer to the object object_x. Using `self` python can convert `object_x.method()` automatically into `MyClass.method(object_x)`\n"
   ]
  },
  {
   "cell_type": "markdown",
   "metadata": {},
   "source": [
    "## The `__init__` method"
   ]
  },
  {
   "cell_type": "markdown",
   "metadata": {},
   "source": [
    "**Another important thing** that you need to know is that classes in python a method called `__init__` that has a special functionality: it is used to create instances of a class with an initial state, like a list of parameters that are already initialised when the instance of the class is created. The `__init__` method runs as soon as an object is created by calling the class."
   ]
  },
  {
   "cell_type": "code",
   "execution_count": 9,
   "metadata": {},
   "outputs": [],
   "source": [
    "class MyClass:\n",
    "    \"\"\"A simple example class\"\"\"\n",
    "    i = 12345\n",
    "    \n",
    "    #usually the __init__ method written as first method in the class\n",
    "    def __init__(self, state):\n",
    "        self.state = state\n",
    "        \n",
    "\n",
    "    def method(self):\n",
    "        print('Hello!')\n",
    "        \n"
   ]
  },
  {
   "cell_type": "code",
   "execution_count": 10,
   "metadata": {},
   "outputs": [],
   "source": [
    "x = MyClass(state='John')"
   ]
  },
  {
   "cell_type": "code",
   "execution_count": 11,
   "metadata": {},
   "outputs": [
    {
     "data": {
      "text/plain": [
       "'John'"
      ]
     },
     "execution_count": 11,
     "metadata": {},
     "output_type": "execute_result"
    }
   ],
   "source": [
    "x.state"
   ]
  },
  {
   "cell_type": "code",
   "execution_count": 12,
   "metadata": {},
   "outputs": [],
   "source": [
    "y = MyClass(state='Robert')"
   ]
  },
  {
   "cell_type": "code",
   "execution_count": 13,
   "metadata": {},
   "outputs": [
    {
     "data": {
      "text/plain": [
       "'Robert'"
      ]
     },
     "execution_count": 13,
     "metadata": {},
     "output_type": "execute_result"
    }
   ],
   "source": [
    "y.state"
   ]
  },
  {
   "cell_type": "markdown",
   "metadata": {},
   "source": [
    "**FYI:**  `i` and `state` are fields of the class above. Ìn particular, `i` is an example of a **class variable**, a variable that is shared by **all** instances of the class `MyClass`. On the other hand, `state` is an example of an **instance variable**, a variable that is unique for each instance"
   ]
  },
  {
   "cell_type": "code",
   "execution_count": 14,
   "metadata": {},
   "outputs": [
    {
     "data": {
      "text/plain": [
       "12345"
      ]
     },
     "execution_count": 14,
     "metadata": {},
     "output_type": "execute_result"
    }
   ],
   "source": [
    "x.i"
   ]
  },
  {
   "cell_type": "code",
   "execution_count": 15,
   "metadata": {},
   "outputs": [
    {
     "data": {
      "text/plain": [
       "12345"
      ]
     },
     "execution_count": 15,
     "metadata": {},
     "output_type": "execute_result"
    }
   ],
   "source": [
    "y.i"
   ]
  },
  {
   "cell_type": "code",
   "execution_count": 23,
   "metadata": {},
   "outputs": [
    {
     "data": {
      "text/plain": [
       "'John'"
      ]
     },
     "execution_count": 23,
     "metadata": {},
     "output_type": "execute_result"
    }
   ],
   "source": [
    "x.state "
   ]
  },
  {
   "cell_type": "code",
   "execution_count": 24,
   "metadata": {},
   "outputs": [
    {
     "data": {
      "text/plain": [
       "'Robert'"
      ]
     },
     "execution_count": 24,
     "metadata": {},
     "output_type": "execute_result"
    }
   ],
   "source": [
    "y.state"
   ]
  },
  {
   "cell_type": "markdown",
   "metadata": {},
   "source": [
    "## More useful examples"
   ]
  },
  {
   "cell_type": "markdown",
   "metadata": {},
   "source": [
    "Let's create a class `PointClass` that defines points in an Euclidean space"
   ]
  },
  {
   "cell_type": "markdown",
   "metadata": {},
   "source": [
    "As attributes we need two coordinates x,y that defines a point"
   ]
  },
  {
   "cell_type": "code",
   "execution_count": 18,
   "metadata": {},
   "outputs": [],
   "source": [
    "class PointClass():\n",
    "    '''Creates a point on a coordinate plane with values x and y.'''\n",
    "    \n",
    "    def __init__(self, x, y):\n",
    "        #the attributes to define a point can be its x,y coordinates\n",
    "        self.X = x\n",
    "        self.Y = y"
   ]
  },
  {
   "cell_type": "code",
   "execution_count": 19,
   "metadata": {},
   "outputs": [],
   "source": [
    "#\"PointClass\" creates a new instance of the class PointClass and assigns it to the local variable p\n",
    "p = PointClass(x=2,y=3)"
   ]
  },
  {
   "cell_type": "markdown",
   "metadata": {},
   "source": [
    "*p* is an instance of the class `PointClass` having attributes x=2, y=3"
   ]
  },
  {
   "cell_type": "code",
   "execution_count": 20,
   "metadata": {},
   "outputs": [
    {
     "data": {
      "text/plain": [
       "2"
      ]
     },
     "execution_count": 20,
     "metadata": {},
     "output_type": "execute_result"
    }
   ],
   "source": [
    "p.X"
   ]
  },
  {
   "cell_type": "code",
   "execution_count": 21,
   "metadata": {},
   "outputs": [
    {
     "data": {
      "text/plain": [
       "3"
      ]
     },
     "execution_count": 21,
     "metadata": {},
     "output_type": "execute_result"
    }
   ],
   "source": [
    "p.Y"
   ]
  },
  {
   "cell_type": "markdown",
   "metadata": {},
   "source": [
    "Now we want to be able to do something with the class. For example we want to be able to shift a point to another position. We can define such a functionality inside the class `PointClass` as method of the class"
   ]
  },
  {
   "cell_type": "code",
   "execution_count": 24,
   "metadata": {},
   "outputs": [],
   "source": [
    "class PointClass():\n",
    "    '''Creates a point on a coordinate plane with values x and y.'''\n",
    "    \n",
    "    def __init__(self, x, y):\n",
    "        self.X = x\n",
    "        self.Y = y\n",
    "    \n",
    "    def move(self, mx, my):\n",
    "        self.X = self.X + mx\n",
    "        self.Y = self.Y + my\n",
    "        return self\n",
    "        "
   ]
  },
  {
   "cell_type": "code",
   "execution_count": 25,
   "metadata": {},
   "outputs": [],
   "source": [
    "p = PointClass(x=2,y=3)"
   ]
  },
  {
   "cell_type": "code",
   "execution_count": 26,
   "metadata": {},
   "outputs": [],
   "source": [
    "pm = p.move(3,4)"
   ]
  },
  {
   "cell_type": "code",
   "execution_count": 27,
   "metadata": {},
   "outputs": [
    {
     "data": {
      "text/plain": [
       "5"
      ]
     },
     "execution_count": 27,
     "metadata": {},
     "output_type": "execute_result"
    }
   ],
   "source": [
    "pm.X"
   ]
  },
  {
   "cell_type": "code",
   "execution_count": 28,
   "metadata": {},
   "outputs": [
    {
     "data": {
      "text/plain": [
       "7"
      ]
     },
     "execution_count": 28,
     "metadata": {},
     "output_type": "execute_result"
    }
   ],
   "source": [
    "pm.Y"
   ]
  },
  {
   "cell_type": "markdown",
   "metadata": {},
   "source": [
    "Exercise 1\n",
    "------------\n",
    "Create a new method for the class `PointClass` that caculate the distance between two points."
   ]
  },
  {
   "cell_type": "markdown",
   "metadata": {},
   "source": [
    "# Class inheritance"
   ]
  },
  {
   "cell_type": "markdown",
   "metadata": {},
   "source": [
    "Sometimes it is usefull to define a new class as a *subclass* of another class that already exists. In this way, the subclass can *inherit* attributes and methods from the *superclass*\n",
    "\n",
    "\n",
    "This techniques is called **class inheritance** and it is supported by Python"
   ]
  },
  {
   "cell_type": "markdown",
   "metadata": {},
   "source": [
    "<img src='../images/vehicles_class.png'>"
   ]
  },
  {
   "cell_type": "markdown",
   "metadata": {},
   "source": [
    "Example: suppose you created the class `Person` that define a person by passing firstname and lastname as attributes. You can create a *subclass* `Employee` that inherit the attributes (firstname and last name) and the methods (`Name`) from the class `Person`"
   ]
  },
  {
   "cell_type": "code",
   "execution_count": 47,
   "metadata": {},
   "outputs": [],
   "source": [
    "class Person:\n",
    "\n",
    "    def __init__(self, first, last):\n",
    "        self.firstname = first\n",
    "        self.lastname = last\n",
    "\n",
    "    def Name(self):\n",
    "        return self.firstname + \" \" + self.lastname"
   ]
  },
  {
   "cell_type": "code",
   "execution_count": 48,
   "metadata": {},
   "outputs": [],
   "source": [
    "class Employee(Person):\n",
    "\n",
    "    def __init__(self, first, last, staffnum):\n",
    "        Person.__init__(self,first, last)\n",
    "        self.staffnumber = staffnum\n",
    "\n",
    "    def GetEmployee(self):\n",
    "        return self.Name() + \", \" +  self.staffnumber\n",
    "\n"
   ]
  },
  {
   "cell_type": "code",
   "execution_count": 50,
   "metadata": {},
   "outputs": [],
   "source": [
    "p = Person('John','Wayne')"
   ]
  },
  {
   "cell_type": "code",
   "execution_count": 51,
   "metadata": {},
   "outputs": [],
   "source": [
    "e = Employee('John','Wayne','1008')"
   ]
  },
  {
   "cell_type": "markdown",
   "metadata": {},
   "source": [
    "Source: https://www.python-course.eu/python3_inheritance.php"
   ]
  },
  {
   "cell_type": "markdown",
   "metadata": {},
   "source": [
    "Example: suppose you created of **vertebrates** with attributes like *number of legs* and *type* (mammals, rectiles, etc..). You can create a more specific class of **dogs** that inherites attributes and methods from the Vertrebrates class\n",
    "\n"
   ]
  },
  {
   "cell_type": "code",
   "execution_count": 36,
   "metadata": {},
   "outputs": [],
   "source": [
    "class Vertebrate():\n",
    "    \n",
    "    def __init__(self, num_of_legs, vert_type, size):\n",
    "        self.num_of_legs = num_of_legs\n",
    "        self.vert_type = vert_type\n",
    "        self.size = size\n",
    "        \n",
    "    def feed(self, food):\n",
    "        # by giving more food the size increases, of course :)\n",
    "        self.size = self.size + food"
   ]
  },
  {
   "cell_type": "code",
   "execution_count": 52,
   "metadata": {},
   "outputs": [],
   "source": [
    "#The class name Vertrebrates need to be passed as argument of Dog\n",
    "class Dog(Vertebrate):\n",
    "    \n",
    "    def __init__(self, name, fur, size):\n",
    "        Vertebrate.__init__(self, 4, 'Mammal', size)\n",
    "        self.name = name\n",
    "        self.fur = fur\n",
    "    \n"
   ]
  },
  {
   "cell_type": "code",
   "execution_count": 53,
   "metadata": {},
   "outputs": [],
   "source": [
    "d = Dog(name='Fido',fur='Long', size=4)"
   ]
  },
  {
   "cell_type": "code",
   "execution_count": 54,
   "metadata": {},
   "outputs": [
    {
     "data": {
      "text/plain": [
       "4"
      ]
     },
     "execution_count": 54,
     "metadata": {},
     "output_type": "execute_result"
    }
   ],
   "source": [
    "d.num_of_legs"
   ]
  },
  {
   "cell_type": "code",
   "execution_count": 55,
   "metadata": {},
   "outputs": [],
   "source": [
    "d.feed(4)"
   ]
  },
  {
   "cell_type": "code",
   "execution_count": 56,
   "metadata": {},
   "outputs": [
    {
     "data": {
      "text/plain": [
       "8"
      ]
     },
     "execution_count": 56,
     "metadata": {},
     "output_type": "execute_result"
    }
   ],
   "source": [
    "d.size"
   ]
  },
  {
   "cell_type": "markdown",
   "metadata": {},
   "source": [
    "Exercise 2\n",
    "-----------\n",
    "\n",
    "1. Create the class of Triangles: pass the coordinates of the vertices as lists X=[x0,x1,x2],Y=[y0,y1,y2] and make sure the length of the lists passed is always 3 (*hint*: for the test you can use the `assert` statement: `assert condition, errormessage`). Create a method to find the area of the Triangle (*hint* use coordinates method to calculate it)\n",
    "\n",
    "2. Generalize the class above: create the class of Polygons by passing the coordinates of the vertices as lists X=[x0,..,xn],Y=[y0,...,yn] and the length n as attributes.Create a method to find the area of a Polygon (see here for a formula:http://mathworld.wolfram.com/PolygonArea.html)\n",
    "\n",
    "3. Rewrite the class of Triangles created in 2., by inheriting attributes and methods from the class of Polygons"
   ]
  },
  {
   "cell_type": "markdown",
   "metadata": {},
   "source": [
    "## Solutions"
   ]
  },
  {
   "cell_type": "markdown",
   "metadata": {},
   "source": [
    "**Exercise 1**\n",
    "<div>\n",
    "import math\n",
    "class PointClass():\n",
    "    '''Creates a point on a coordinate plane with values x and y.'''\n",
    "    \n",
    "    def __init__(self, x, y):\n",
    "        self.X = x\n",
    "        self.Y = y\n",
    "    \n",
    "    def move(self, mx, my):\n",
    "        self.X = self.X + mx\n",
    "        self.Y = self.Y + my\n",
    "        return self\n",
    "    \n",
    "    def distance(self, another):\n",
    "        #euclidean distance between two points\n",
    "        dx = self.X - another.X\n",
    "        dy = self.Y - another.Y\n",
    "        return math.sqrt(dx**2+dy**2)\n",
    "</div>"
   ]
  },
  {
   "cell_type": "markdown",
   "metadata": {},
   "source": [
    "**Exercise 2.1.**\n",
    "<div>\n",
    "import numpy as np\n",
    "class Triangle():\n",
    "    \n",
    "    def __init__(self, X, Y):\n",
    "        self.X = X\n",
    "        self.Y = Y\n",
    "        assert len(self.X)==3\n",
    "        assert len(self.Y)==3\n",
    "    \n",
    "    def area(self):\n",
    "        X = self.X\n",
    "        Y = self.Y\n",
    "        m = np.array([[X[0],X[1],X[2]], [Y[0],Y[1],Y[2]], [1,1,1]])\n",
    "        sign_area = np.linalg.det(m)/2\n",
    "        return np.abs(sign_area)\n",
    "</div>"
   ]
  },
  {
   "cell_type": "markdown",
   "metadata": {},
   "source": [
    "**Exercise 2.2**\n",
    "<div>\n",
    "class Polygon():\n",
    "    \n",
    "    def __init__(self, X, Y):\n",
    "        self.X = X\n",
    "        self.Y = Y\n",
    "        assert len(X)==len(Y)\n",
    "    \n",
    "    def area(self):\n",
    "        X = self.X\n",
    "        Y = self.Y\n",
    "        n = len(X)\n",
    "        area = 0\n",
    "        for i in range(0,n-1):\n",
    "                m = np.array([[X[i], X[i+1]],[Y[i],Y[i+1]]])\n",
    "                area = area + np.linalg.det(m)\n",
    "        last_m = np.array([[X[n-1], X[0]],[Y[n-1], Y[0]]])\n",
    "        area = area + np.linalg.det(last_m)\n",
    "        return np.abs(area/2)\n",
    "</div>"
   ]
  },
  {
   "cell_type": "markdown",
   "metadata": {},
   "source": [
    "**Exercise 2.3**\n",
    "<div>\n",
    "class Triangle(Polygon):\n",
    "    \n",
    "    def __init__(self, X, Y):\n",
    "        Polygon.__init__(self, X, Y)\n",
    "        \n",
    "</div>"
   ]
  },
  {
   "cell_type": "code",
   "execution_count": 43,
   "metadata": {},
   "outputs": [],
   "source": [
    "import numpy as np\n",
    "class Triangle():\n",
    "    \n",
    "    def __init__(self, X, Y):\n",
    "        self.X = X\n",
    "        self.Y = Y\n",
    "        assert len(self.X)==3\n",
    "        assert len(self.Y)==3\n",
    "    \n",
    "    def area(self):\n",
    "        X = self.X\n",
    "        Y = self.Y\n",
    "        m = np.array([[X[0],X[1],X[2]], [Y[0],Y[1],Y[2]], [1,1,1]])\n",
    "        sign_area = np.linalg.det(m)/2\n",
    "        return np.abs(sign_area)\n"
   ]
  },
  {
   "cell_type": "code",
   "execution_count": 44,
   "metadata": {},
   "outputs": [],
   "source": [
    "t = Triangle(X=[1,1,2], Y=[1,2,1])"
   ]
  },
  {
   "cell_type": "code",
   "execution_count": 46,
   "metadata": {},
   "outputs": [
    {
     "data": {
      "text/plain": [
       "0.5"
      ]
     },
     "execution_count": 46,
     "metadata": {},
     "output_type": "execute_result"
    }
   ],
   "source": [
    "t.area()"
   ]
  },
  {
   "cell_type": "code",
   "execution_count": null,
   "metadata": {},
   "outputs": [],
   "source": []
  }
 ],
 "metadata": {
  "kernelspec": {
   "display_name": "Python 3",
   "language": "python",
   "name": "python3"
  },
  "language_info": {
   "codemirror_mode": {
    "name": "ipython",
    "version": 3
   },
   "file_extension": ".py",
   "mimetype": "text/x-python",
   "name": "python",
   "nbconvert_exporter": "python",
   "pygments_lexer": "ipython3",
   "version": "3.6.4"
  }
 },
 "nbformat": 4,
 "nbformat_minor": 2
}
