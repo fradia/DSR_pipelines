{
 "cells": [
  {
   "cell_type": "markdown",
   "metadata": {},
   "source": [
    "# Recap\n",
    "- we have seen how to build Pipelines of Transformers and Estimators with scikit-learn (`Pipeline`, `make_pipeline`)\n",
    "- we have seen how to create a concatenation of transformers with scikit-learn (`FeatureUnion`, `make_union`)\n",
    "\n",
    "Now let's do some exercise with some data!"
   ]
  },
  {
   "cell_type": "code",
   "execution_count": 2,
   "metadata": {},
   "outputs": [],
   "source": [
    "import pandas as pd\n",
    "import numpy as np"
   ]
  },
  {
   "cell_type": "code",
   "execution_count": 3,
   "metadata": {},
   "outputs": [],
   "source": [
    "data = pd.read_csv('../data/house_train.csv')"
   ]
  },
  {
   "cell_type": "code",
   "execution_count": 4,
   "metadata": {
    "scrolled": true
   },
   "outputs": [
    {
     "data": {
      "text/html": [
       "<div>\n",
       "<style scoped>\n",
       "    .dataframe tbody tr th:only-of-type {\n",
       "        vertical-align: middle;\n",
       "    }\n",
       "\n",
       "    .dataframe tbody tr th {\n",
       "        vertical-align: top;\n",
       "    }\n",
       "\n",
       "    .dataframe thead th {\n",
       "        text-align: right;\n",
       "    }\n",
       "</style>\n",
       "<table border=\"1\" class=\"dataframe\">\n",
       "  <thead>\n",
       "    <tr style=\"text-align: right;\">\n",
       "      <th></th>\n",
       "      <th>Id</th>\n",
       "      <th>MSSubClass</th>\n",
       "      <th>MSZoning</th>\n",
       "      <th>LotFrontage</th>\n",
       "      <th>LotArea</th>\n",
       "      <th>Street</th>\n",
       "      <th>Alley</th>\n",
       "      <th>LotShape</th>\n",
       "      <th>LandContour</th>\n",
       "      <th>Utilities</th>\n",
       "      <th>...</th>\n",
       "      <th>PoolArea</th>\n",
       "      <th>PoolQC</th>\n",
       "      <th>Fence</th>\n",
       "      <th>MiscFeature</th>\n",
       "      <th>MiscVal</th>\n",
       "      <th>MoSold</th>\n",
       "      <th>YrSold</th>\n",
       "      <th>SaleType</th>\n",
       "      <th>SaleCondition</th>\n",
       "      <th>SalePrice</th>\n",
       "    </tr>\n",
       "  </thead>\n",
       "  <tbody>\n",
       "    <tr>\n",
       "      <th>0</th>\n",
       "      <td>1</td>\n",
       "      <td>60</td>\n",
       "      <td>RL</td>\n",
       "      <td>65.0</td>\n",
       "      <td>8450</td>\n",
       "      <td>Pave</td>\n",
       "      <td>NaN</td>\n",
       "      <td>Reg</td>\n",
       "      <td>Lvl</td>\n",
       "      <td>AllPub</td>\n",
       "      <td>...</td>\n",
       "      <td>0</td>\n",
       "      <td>NaN</td>\n",
       "      <td>NaN</td>\n",
       "      <td>NaN</td>\n",
       "      <td>0</td>\n",
       "      <td>2</td>\n",
       "      <td>2008</td>\n",
       "      <td>WD</td>\n",
       "      <td>Normal</td>\n",
       "      <td>208500</td>\n",
       "    </tr>\n",
       "    <tr>\n",
       "      <th>1</th>\n",
       "      <td>2</td>\n",
       "      <td>20</td>\n",
       "      <td>RL</td>\n",
       "      <td>80.0</td>\n",
       "      <td>9600</td>\n",
       "      <td>Pave</td>\n",
       "      <td>NaN</td>\n",
       "      <td>Reg</td>\n",
       "      <td>Lvl</td>\n",
       "      <td>AllPub</td>\n",
       "      <td>...</td>\n",
       "      <td>0</td>\n",
       "      <td>NaN</td>\n",
       "      <td>NaN</td>\n",
       "      <td>NaN</td>\n",
       "      <td>0</td>\n",
       "      <td>5</td>\n",
       "      <td>2007</td>\n",
       "      <td>WD</td>\n",
       "      <td>Normal</td>\n",
       "      <td>181500</td>\n",
       "    </tr>\n",
       "    <tr>\n",
       "      <th>2</th>\n",
       "      <td>3</td>\n",
       "      <td>60</td>\n",
       "      <td>RL</td>\n",
       "      <td>68.0</td>\n",
       "      <td>11250</td>\n",
       "      <td>Pave</td>\n",
       "      <td>NaN</td>\n",
       "      <td>IR1</td>\n",
       "      <td>Lvl</td>\n",
       "      <td>AllPub</td>\n",
       "      <td>...</td>\n",
       "      <td>0</td>\n",
       "      <td>NaN</td>\n",
       "      <td>NaN</td>\n",
       "      <td>NaN</td>\n",
       "      <td>0</td>\n",
       "      <td>9</td>\n",
       "      <td>2008</td>\n",
       "      <td>WD</td>\n",
       "      <td>Normal</td>\n",
       "      <td>223500</td>\n",
       "    </tr>\n",
       "    <tr>\n",
       "      <th>3</th>\n",
       "      <td>4</td>\n",
       "      <td>70</td>\n",
       "      <td>RL</td>\n",
       "      <td>60.0</td>\n",
       "      <td>9550</td>\n",
       "      <td>Pave</td>\n",
       "      <td>NaN</td>\n",
       "      <td>IR1</td>\n",
       "      <td>Lvl</td>\n",
       "      <td>AllPub</td>\n",
       "      <td>...</td>\n",
       "      <td>0</td>\n",
       "      <td>NaN</td>\n",
       "      <td>NaN</td>\n",
       "      <td>NaN</td>\n",
       "      <td>0</td>\n",
       "      <td>2</td>\n",
       "      <td>2006</td>\n",
       "      <td>WD</td>\n",
       "      <td>Abnorml</td>\n",
       "      <td>140000</td>\n",
       "    </tr>\n",
       "    <tr>\n",
       "      <th>4</th>\n",
       "      <td>5</td>\n",
       "      <td>60</td>\n",
       "      <td>RL</td>\n",
       "      <td>84.0</td>\n",
       "      <td>14260</td>\n",
       "      <td>Pave</td>\n",
       "      <td>NaN</td>\n",
       "      <td>IR1</td>\n",
       "      <td>Lvl</td>\n",
       "      <td>AllPub</td>\n",
       "      <td>...</td>\n",
       "      <td>0</td>\n",
       "      <td>NaN</td>\n",
       "      <td>NaN</td>\n",
       "      <td>NaN</td>\n",
       "      <td>0</td>\n",
       "      <td>12</td>\n",
       "      <td>2008</td>\n",
       "      <td>WD</td>\n",
       "      <td>Normal</td>\n",
       "      <td>250000</td>\n",
       "    </tr>\n",
       "  </tbody>\n",
       "</table>\n",
       "<p>5 rows × 81 columns</p>\n",
       "</div>"
      ],
      "text/plain": [
       "   Id  MSSubClass MSZoning  LotFrontage  LotArea Street Alley LotShape  \\\n",
       "0   1          60       RL         65.0     8450   Pave   NaN      Reg   \n",
       "1   2          20       RL         80.0     9600   Pave   NaN      Reg   \n",
       "2   3          60       RL         68.0    11250   Pave   NaN      IR1   \n",
       "3   4          70       RL         60.0     9550   Pave   NaN      IR1   \n",
       "4   5          60       RL         84.0    14260   Pave   NaN      IR1   \n",
       "\n",
       "  LandContour Utilities    ...     PoolArea PoolQC Fence MiscFeature MiscVal  \\\n",
       "0         Lvl    AllPub    ...            0    NaN   NaN         NaN       0   \n",
       "1         Lvl    AllPub    ...            0    NaN   NaN         NaN       0   \n",
       "2         Lvl    AllPub    ...            0    NaN   NaN         NaN       0   \n",
       "3         Lvl    AllPub    ...            0    NaN   NaN         NaN       0   \n",
       "4         Lvl    AllPub    ...            0    NaN   NaN         NaN       0   \n",
       "\n",
       "  MoSold YrSold  SaleType  SaleCondition  SalePrice  \n",
       "0      2   2008        WD         Normal     208500  \n",
       "1      5   2007        WD         Normal     181500  \n",
       "2      9   2008        WD         Normal     223500  \n",
       "3      2   2006        WD        Abnorml     140000  \n",
       "4     12   2008        WD         Normal     250000  \n",
       "\n",
       "[5 rows x 81 columns]"
      ]
     },
     "execution_count": 4,
     "metadata": {},
     "output_type": "execute_result"
    }
   ],
   "source": [
    "data.head()"
   ]
  },
  {
   "cell_type": "markdown",
   "metadata": {},
   "source": [
    "## Some pandas Recap"
   ]
  },
  {
   "cell_type": "markdown",
   "metadata": {},
   "source": [
    "- Identify the types of column\n",
    "- Identify columns containing missing values. \n",
    "- For each of these columns calculate percentage of data containing missing values. What would you do with these columns? "
   ]
  },
  {
   "cell_type": "markdown",
   "metadata": {},
   "source": [
    "<div>\n",
    "\n",
    "for item in train.columns[train.isnull().any()].tolist():\n",
    "    print(item,'-', train[item].dtype,'-', len(train[train[item].isnull()])/len(train))\n",
    "</div>"
   ]
  },
  {
   "cell_type": "markdown",
   "metadata": {},
   "source": [
    "This is what we are going to do in this exercise"
   ]
  },
  {
   "cell_type": "markdown",
   "metadata": {},
   "source": [
    "<img src='../images/diagram_exercise.png'>"
   ]
  },
  {
   "cell_type": "code",
   "execution_count": 82,
   "metadata": {},
   "outputs": [],
   "source": [
    "# drop MiscFeature, Fence, PoolQC, Alley\n",
    "data.drop(labels=['MiscFeature','Fence','PoolQC','Alley'],axis=1,inplace=True)"
   ]
  },
  {
   "cell_type": "code",
   "execution_count": 83,
   "metadata": {},
   "outputs": [
    {
     "data": {
      "text/plain": [
       "Index(['Id', 'MSSubClass', 'MSZoning', 'LotFrontage', 'LotArea', 'Street',\n",
       "       'LotShape', 'LandContour', 'Utilities', 'LotConfig', 'LandSlope',\n",
       "       'Neighborhood', 'Condition1', 'Condition2', 'BldgType', 'HouseStyle',\n",
       "       'OverallQual', 'OverallCond', 'YearBuilt', 'YearRemodAdd', 'RoofStyle',\n",
       "       'RoofMatl', 'Exterior1st', 'Exterior2nd', 'MasVnrType', 'MasVnrArea',\n",
       "       'ExterQual', 'ExterCond', 'Foundation', 'BsmtQual', 'BsmtCond',\n",
       "       'BsmtExposure', 'BsmtFinType1', 'BsmtFinSF1', 'BsmtFinType2',\n",
       "       'BsmtFinSF2', 'BsmtUnfSF', 'TotalBsmtSF', 'Heating', 'HeatingQC',\n",
       "       'CentralAir', 'Electrical', '1stFlrSF', '2ndFlrSF', 'LowQualFinSF',\n",
       "       'GrLivArea', 'BsmtFullBath', 'BsmtHalfBath', 'FullBath', 'HalfBath',\n",
       "       'BedroomAbvGr', 'KitchenAbvGr', 'KitchenQual', 'TotRmsAbvGrd',\n",
       "       'Functional', 'Fireplaces', 'FireplaceQu', 'GarageType', 'GarageYrBlt',\n",
       "       'GarageFinish', 'GarageCars', 'GarageArea', 'GarageQual', 'GarageCond',\n",
       "       'PavedDrive', 'WoodDeckSF', 'OpenPorchSF', 'EnclosedPorch', '3SsnPorch',\n",
       "       'ScreenPorch', 'PoolArea', 'MiscVal', 'MoSold', 'YrSold', 'SaleType',\n",
       "       'SaleCondition', 'SalePrice'],\n",
       "      dtype='object')"
      ]
     },
     "execution_count": 83,
     "metadata": {},
     "output_type": "execute_result"
    }
   ],
   "source": [
    "data.columns"
   ]
  },
  {
   "cell_type": "code",
   "execution_count": 84,
   "metadata": {},
   "outputs": [],
   "source": [
    "# drop rows\n",
    "data = data[(data.MasVnrArea.isnull()==False) & (data.MasVnrType.isnull()==False) & (data.Electrical.isnull()==False)]"
   ]
  },
  {
   "cell_type": "code",
   "execution_count": 85,
   "metadata": {},
   "outputs": [
    {
     "data": {
      "text/plain": [
       "1451"
      ]
     },
     "execution_count": 85,
     "metadata": {},
     "output_type": "execute_result"
    }
   ],
   "source": [
    "len(data)"
   ]
  },
  {
   "cell_type": "markdown",
   "metadata": {},
   "source": [
    "Exercises:\n",
    "-----------\n",
    "1. create a Tranformer ```Selector``` that selects columns from the dataframe (*hint*: the Transformer takes a list of columns as input and returns the dataframe with only the selected columns\n",
    "2. What kind of transformer is it? Stateful? Stateless?"
   ]
  },
  {
   "cell_type": "markdown",
   "metadata": {},
   "source": [
    "**Solution**\n",
    "<div>\n",
    "from sklearn.base import BaseEstimator, TransformerMixin\n",
    "\n",
    "class PandasSelector(BaseEstimator, TransformerMixin):\n",
    "    \n",
    "    def __init__(self, columns):\n",
    "        self.columns = columns\n",
    "        \n",
    "    def fit(self, X, y = None):\n",
    "        return self\n",
    "    \n",
    "    def transform(self, X):\n",
    "        return X.loc[:,self.columns]\n",
    "</div>"
   ]
  },
  {
   "cell_type": "markdown",
   "metadata": {},
   "source": [
    "Exercise:\n",
    "----------\n",
    "1. create a Transformer that replace missing values of categorical columns with a new value (ex.: 'Not-given'). The new value can be given as an attribute \n",
    "2. create a Transformer that replace the missing values of categorical columns with the most common value\n",
    "3. verify the Transformers above on one test column"
   ]
  },
  {
   "cell_type": "markdown",
   "metadata": {},
   "source": [
    "**Solution**\n",
    "\n",
    "<div>\n",
    "class CategoricanImputerNew(BaseEstimator,TransformerMixin):\n",
    "    \n",
    "    def __init__(self, value):\n",
    "        self.value = value\n",
    "    \n",
    "    def fit(self, X, y=None):\n",
    "        assert X.dtypes.all() == 'object'\n",
    "        return self\n",
    "    \n",
    "    def transform(self, X):\n",
    "        X_ = X.fillna(self.value)\n",
    "        return X_\n",
    "        \n",
    "class CategoricalImputerMostCommon(BaseEstimator,TransformerMixin):\n",
    "    \n",
    "    def __init__(self):\n",
    "        \"\"\"assert that all columns are of categorical type\"\"\"\n",
    "    \n",
    "    def fit(self, X, y=None):\n",
    "        assert X.dtypes.all() == 'object'\n",
    "        self.fill = pd.Series([X[c].value_counts().index[0] for c in X],\n",
    "            index=X.columns)\n",
    "        return self\n",
    "    \n",
    "    def transform(self, X):\n",
    "        X_ = X.fillna(self.fill)\n",
    "        return X_\n",
    "</div>"
   ]
  },
  {
   "cell_type": "markdown",
   "metadata": {},
   "source": [
    "Exercise:\n",
    "----------\n",
    "1. What would you do for missing values in numerical columns? Have a look at scikit-learn `Imputer`\n",
    "2. Construct the first piece of the pipeline by combining the Columns selector and the inputer for Numerical and Categorical columns"
   ]
  },
  {
   "cell_type": "markdown",
   "metadata": {},
   "source": [
    "**Solution**\n",
    "<div>\n",
    "from sklearn.pipeline import make_pipeline, make_union\n",
    "from sklearn.preprocessing import Imputer\n",
    "\n",
    "num_columns = ['OverallQual',\n",
    "'GrLivArea',\n",
    "'GarageCars',\n",
    "'GarageArea',\n",
    "'TotalBsmtSF',\n",
    "'1stFlrSF',\n",
    "'FullBath',\n",
    "'TotRmsAbvGrd',\n",
    "'YearBuilt',\n",
    "'YearRemodAdd',\n",
    "'GarageYrBlt',\n",
    "'MasVnrArea',\n",
    "'Fireplaces',\n",
    "'BsmtFinSF1',\n",
    "'LotFrontage']\n",
    "cat_columns = ['MasVnrType', 'BsmtQual', 'BsmtCond', 'BsmtExposure', 'BsmtFinType1']\n",
    "\n",
    "first_union = make_union(\n",
    "    #some numerical columns\n",
    "        make_pipeline(\n",
    "            PandasSelector(num_columns),\n",
    "            Imputer(strategy='median')\n",
    "        ),\n",
    "    #some categorical columns\n",
    "        make_pipeline(\n",
    "            PandasSelector(cat_columns),\n",
    "            CategoricalImputerMostCommon()\n",
    "            ))\n",
    "</div>"
   ]
  },
  {
   "cell_type": "markdown",
   "metadata": {},
   "source": [
    "Exercise:\n",
    "----------\n",
    "1. Have a look at the categorical features. How many unique values do they contain?\n",
    "2. Have a look at OneHotEncoder from category_encoders: `from category_encoders.one_hot import OneHotEncoder`"
   ]
  },
  {
   "cell_type": "code",
   "execution_count": 49,
   "metadata": {},
   "outputs": [],
   "source": [
    "# HERE! Discuss difference between pd.get_dummies and OneHotEncoder (scikit-learn vs category_encoders)"
   ]
  },
  {
   "cell_type": "markdown",
   "metadata": {},
   "source": [
    "Exercise:\n",
    "----------\n",
    "Add OneHotEncoder to to the Union"
   ]
  },
  {
   "cell_type": "markdown",
   "metadata": {},
   "source": [
    "**Click here to see the solution**\n",
    "<div>\n",
    "from category_encoders.one_hot import OneHotEncoder\n",
    "final_union = make_union(\n",
    "    #some numerical columns\n",
    "        make_pipeline(\n",
    "            PandasSelector(num_columns),\n",
    "            Imputer(strategy='median')\n",
    "        ),\n",
    "    #some categorical columns\n",
    "        make_pipeline(\n",
    "            PandasSelector(cat_columns),\n",
    "            CategoricalImputerMostCommon(),\n",
    "            OneHotEncoder()\n",
    "            ))\n",
    "</div>"
   ]
  },
  {
   "cell_type": "markdown",
   "metadata": {},
   "source": [
    "The final step would be to add an estimator (a predictor) to the pipeline above."
   ]
  },
  {
   "cell_type": "markdown",
   "metadata": {},
   "source": [
    "Exercise\n",
    "---------\n",
    "\n",
    "1. Run and understand the code below (explain each line)\n",
    "2. The problem is to predict future prices is cross validation a good method?\n",
    "3. Try to use a train/test split based on YrSold"
   ]
  },
  {
   "cell_type": "code",
   "execution_count": 95,
   "metadata": {},
   "outputs": [
    {
     "name": "stdout",
     "output_type": "stream",
     "text": [
      "31682.00721073981\n"
     ]
    }
   ],
   "source": [
    "from sklearn.model_selection import cross_val_predict\n",
    "from sklearn.ensemble import GradientBoostingRegressor, RandomForestRegressor\n",
    "from sklearn.metrics import mean_squared_error\n",
    "\n",
    "est = RandomForestRegressor()\n",
    "\n",
    "predictions = cross_val_predict(make_pipeline(final_union, est), \n",
    "                         data, \n",
    "                         np.log1p(data.SalePrice),\n",
    "                         cv=5)\n",
    "\n",
    "print(math.sqrt(mean_squared_error(data.SalePrice, np.expm1(predictions))))"
   ]
  },
  {
   "cell_type": "markdown",
   "metadata": {},
   "source": [
    "**Solution**\n",
    "\n",
    "<div>\n",
    "from sklearn.model_selection import cross_val_predict\n",
    "from sklearn.ensemble import GradientBoostingRegressor, RandomForestRegressor\n",
    "#from sklearn.metrics import rmse\n",
    "from sklearn.metrics import mean_squared_error\n",
    "\n",
    "est = RandomForestRegressor()\n",
    "training_data = data[data.YrSold <= 2009]\n",
    "test_data = data[data.YrSold > 2009]\n",
    "model = make_pipeline(final_union, est)\n",
    "model.fit(training_data, np.log1p(training_data.SalePrice))\n",
    "predictions = model.predict(test_data)\n",
    "print(math.sqrt(mean_squared_error(np.log(test_data.SalePrice), np.log(np.expm1(predictions)))))\n",
    "</div>"
   ]
  },
  {
   "cell_type": "markdown",
   "metadata": {},
   "source": [
    "# Experiments with Time Series"
   ]
  },
  {
   "cell_type": "markdown",
   "metadata": {},
   "source": [
    "The dataframe contains house prices in a time range between 2006 and 2010. Let's have a look at the sale price based on time."
   ]
  },
  {
   "cell_type": "markdown",
   "metadata": {},
   "source": [
    "Exercise:\n",
    "----------\n",
    "- Create a pandas dataframe containing the average house prices per Year-Month (*hint*: first create a new datetype colum that concatenate YrSold and MoSold)\n",
    "- Create a plot of the price by Month. Do you see some seasonality? Trend?"
   ]
  },
  {
   "cell_type": "code",
   "execution_count": 7,
   "metadata": {},
   "outputs": [],
   "source": [
    "data.loc[:,'Mo-YrSold'] = pd.to_datetime(data.YrSold.astype('str')+data.MoSold.astype('str'), format = '%Y%m')\n",
    "ts_agg = data.groupby('Mo-YrSold')['SalePrice'].mean().reset_index(name='meanSalePrice')\n"
   ]
  },
  {
   "cell_type": "code",
   "execution_count": 8,
   "metadata": {},
   "outputs": [
    {
     "data": {
      "text/html": [
       "<div>\n",
       "<style scoped>\n",
       "    .dataframe tbody tr th:only-of-type {\n",
       "        vertical-align: middle;\n",
       "    }\n",
       "\n",
       "    .dataframe tbody tr th {\n",
       "        vertical-align: top;\n",
       "    }\n",
       "\n",
       "    .dataframe thead th {\n",
       "        text-align: right;\n",
       "    }\n",
       "</style>\n",
       "<table border=\"1\" class=\"dataframe\">\n",
       "  <thead>\n",
       "    <tr style=\"text-align: right;\">\n",
       "      <th></th>\n",
       "      <th>Mo-YrSold</th>\n",
       "      <th>meanSalePrice</th>\n",
       "    </tr>\n",
       "  </thead>\n",
       "  <tbody>\n",
       "    <tr>\n",
       "      <th>0</th>\n",
       "      <td>2006-01-01</td>\n",
       "      <td>201090.000000</td>\n",
       "    </tr>\n",
       "    <tr>\n",
       "      <th>1</th>\n",
       "      <td>2006-02-01</td>\n",
       "      <td>194322.222222</td>\n",
       "    </tr>\n",
       "    <tr>\n",
       "      <th>2</th>\n",
       "      <td>2006-03-01</td>\n",
       "      <td>184982.200000</td>\n",
       "    </tr>\n",
       "    <tr>\n",
       "      <th>3</th>\n",
       "      <td>2006-04-01</td>\n",
       "      <td>174312.814815</td>\n",
       "    </tr>\n",
       "    <tr>\n",
       "      <th>4</th>\n",
       "      <td>2006-05-01</td>\n",
       "      <td>158928.289474</td>\n",
       "    </tr>\n",
       "  </tbody>\n",
       "</table>\n",
       "</div>"
      ],
      "text/plain": [
       "   Mo-YrSold  meanSalePrice\n",
       "0 2006-01-01  201090.000000\n",
       "1 2006-02-01  194322.222222\n",
       "2 2006-03-01  184982.200000\n",
       "3 2006-04-01  174312.814815\n",
       "4 2006-05-01  158928.289474"
      ]
     },
     "execution_count": 8,
     "metadata": {},
     "output_type": "execute_result"
    }
   ],
   "source": [
    "ts_agg.head()"
   ]
  },
  {
   "cell_type": "markdown",
   "metadata": {},
   "source": [
    "<div>\n",
    "train.loc[:,'Mo-YrSold'] = pd.to_datetime(train.YrSold.astype('str')+train.MoSold.astype('str'), format = '%Y%m')\n",
    "ts_agg = train.groupby('Mo-YrSold')['SalePrice'].mean().reset_index(name='meanSalePrice')\n",
    "\n",
    "from matplotlib import pyplot as plt\n",
    "%matplotlib inline\n",
    "\n",
    "ts_agg.plot(x='Mo-YrSold',y='meanSalePrice')\n",
    "</div>"
   ]
  },
  {
   "cell_type": "markdown",
   "metadata": {},
   "source": [
    "From the plot above we see a huge drop in summer 2010. Maybe this is due to too much noise since we are considering ALL the houses together? Let's try to build this plot for different overall conditions"
   ]
  },
  {
   "cell_type": "markdown",
   "metadata": {},
   "source": [
    "Exercise:\n",
    "----------\n",
    "Consider the dataframe created above that contains the (average) price of houses by Month-Year. In this exercise we construct predictor for simple time series forecasting methods.\n",
    "The predictor should have three methods: ```fit``` (to fit the data), ```predict``` (to return the prediction) and ```score``` (to calculate the error). \n",
    "\n",
    "1. Simple Average: Build an estimator that when fitted on the dataframe computes the avg price overall and returns it as prediction. Which metric would you choose for score?\n",
    "2. Simple Moving Average: Generalize the estimator above so that a simple moving average of the last k points is possible (*hint* k should be given as argument in __init__ method)\n",
    "3. Weighted Moving Average: Generalize the estimator above so that a weighted moving average of the last k points is given (*hint* beside k, a list of weights should be given as argument)\n",
    "\n",
    "Plot the predictions for the three predictors above"
   ]
  },
  {
   "cell_type": "markdown",
   "metadata": {},
   "source": [
    "**Solution**\n",
    "<div>\n",
    "import math\n",
    "\n",
    "class AvgForecast(BaseEstimator,RegressorMixin):\n",
    "    \"\"\"Calculate avg and return it as prediction\"\"\"\n",
    "        \n",
    "    def fit(self, X):\n",
    "        \"\"\"Calculate avg of X values\"\"\"\n",
    "        self.avg = np.mean(X)\n",
    "        return self\n",
    "    \n",
    "    def predict(self, X):\n",
    "        self.predict = np.array([self.avg for x in X])\n",
    "        return self.predict\n",
    "    \n",
    "    def score(self, X):\n",
    "        \"\"\"Calculate rmse\"\"\"\n",
    "        return math.sqrt(np.sum((X-self.predict)**2)/len(X))\n",
    " \n",
    "class MovAvgForecast(BaseEstimator,RegressorMixin):\n",
    "    \"\"\"Calculate avg and return it as prediction\"\"\"\n",
    "    \n",
    "    def __init__(self, k):\n",
    "        self.k = k\n",
    "        \n",
    "    def fit(self, X):\n",
    "        \"\"\"Calculate avg of X values\"\"\"\n",
    "        k = self.k\n",
    "        n = len(X)\n",
    "        X_k = X[n-k:n]\n",
    "        self.avg = np.mean(X_k)\n",
    "        return self\n",
    "    \n",
    "    def predict(self, X):\n",
    "        self.predict = np.array([self.avg for x in X])\n",
    "        return self.predict\n",
    "    \n",
    "    def score(self, X):\n",
    "        \"\"\"Calculate rmse\"\"\"\n",
    "        return math.sqrt(np.sum((X-self.predict)**2)/len(X))\n",
    "\n",
    "    \n",
    "class MovWeightAvgForecast(BaseEstimator,RegressorMixin):\n",
    "    \"\"\"Calculate avg and return it as prediction\"\"\"\n",
    "    \n",
    "    def __init__(self, k, weights):\n",
    "        self.k = k\n",
    "        self.weights = weights\n",
    "        assert len(weights)==k\n",
    "        assert np.sum(weights)==1\n",
    "        \n",
    "    def fit(self, X):\n",
    "        \"\"\"Calculate avg of X values\"\"\"\n",
    "        k = self.k\n",
    "        weights = self.weights\n",
    "        n = len(X)\n",
    "        X_k = X[n-k:n]\n",
    "        self.avg = np.average(X_k,axis=0,weights=weights)\n",
    "        return self\n",
    "    \n",
    "    def predict(self, X):\n",
    "        self.predict = np.array([self.avg for x in X])\n",
    "        return self.predict\n",
    "    \n",
    "    def score(self, X):\n",
    "        \"\"\"Calculate rmse\"\"\"\n",
    "        return math.sqrt(np.sum((X-self.predict)**2)/len(X))\n",
    "</div>"
   ]
  },
  {
   "cell_type": "code",
   "execution_count": 298,
   "metadata": {},
   "outputs": [],
   "source": [
    "#x = np.array(ts_agg['meanSalePrice'])\n",
    "#pred1 = pred1[0:10]  #pred1 is the result of predict for the first estimator\n",
    "#x1 = np.append(x,pred1)\n",
    "#pred2 = pred2[0:10]\n",
    "#x2 = np.append(x,pred2)\n",
    "#pred3 = pred3[0:10]\n",
    "#x3 = np.append(x,pred3)"
   ]
  },
  {
   "cell_type": "code",
   "execution_count": 299,
   "metadata": {},
   "outputs": [],
   "source": [
    "#fig = plt.figure()\n",
    "#\n",
    "#plt.plot(x1, color='r')\n",
    "#plt.plot(x2, color='g')\n",
    "#plt.plot(x3, color='b')\n"
   ]
  },
  {
   "cell_type": "markdown",
   "metadata": {},
   "source": [
    "___________________________________"
   ]
  },
  {
   "cell_type": "code",
   "execution_count": 266,
   "metadata": {},
   "outputs": [
    {
     "data": {
      "image/png": "[encoded data removed]",
      "text/plain": [
       "<matplotlib.figure.Figure at 0x7f2bada087f0>"
      ]
     },
     "metadata": {},
     "output_type": "display_data"
    }
   ],
   "source": [
    "fig, ax = plt.subplots()\n",
    "fig.set_figheight(5)\n",
    "fig.set_figwidth(15)\n",
    "for c in cond_unique:\n",
    "    c_train= train[train['OverallCond']==c].groupby('Mo-YrSold')['SalePrice'].mean().reset_index(name='meanSalePrice')\n",
    "    ax.plot(c_train['Mo-YrSold'], c_train['meanSalePrice'], label='OverallCond-'+str(c))\n",
    "leg = ax.legend();\n"
   ]
  }
 ],
 "metadata": {
  "kernelspec": {
   "display_name": "Python 3",
   "language": "python",
   "name": "python3"
  },
  "language_info": {
   "codemirror_mode": {
    "name": "ipython",
    "version": 3
   },
   "file_extension": ".py",
   "mimetype": "text/x-python",
   "name": "python",
   "nbconvert_exporter": "python",
   "pygments_lexer": "ipython3",
   "version": "3.6.4"
  }
 },
 "nbformat": 4,
 "nbformat_minor": 2
}
