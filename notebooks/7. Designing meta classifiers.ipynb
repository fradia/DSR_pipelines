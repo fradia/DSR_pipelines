{
 "cells": [
  {
   "cell_type": "markdown",
   "metadata": {},
   "source": [
    "This exercise was taken from Paweł Jankiewicz and partially modified\n",
    "https://github.com/logicai-io/pipelines-sklearn"
   ]
  },
  {
   "cell_type": "code",
   "execution_count": 2,
   "metadata": {},
   "outputs": [],
   "source": [
    "import pandas as pd\n",
    "import numpy as np\n",
    "from sklearn.base import BaseEstimator, ClassifierMixin, clone\n",
    "from sklearn.feature_extraction.text import CountVectorizer\n",
    "from sklearn.ensemble import RandomForestClassifier\n",
    "from sklearn.pipeline import Pipeline, make_pipeline\n",
    "from sklearn.metrics import f1_score\n",
    "from sklearn.model_selection import train_test_split"
   ]
  },
  {
   "cell_type": "code",
   "execution_count": 4,
   "metadata": {},
   "outputs": [],
   "source": [
    "df = pd.read_csv('../data/categories.csv').loc[lambda x: x.short_description.str.len() > 10]"
   ]
  },
  {
   "cell_type": "code",
   "execution_count": 5,
   "metadata": {},
   "outputs": [
    {
     "data": {
      "text/plain": [
       "categories\n",
       "[\"Men's\", \"Women's\", 'Beauty', 'Fashion']                                                                       1\n",
       "[\"Men's\", \"Women's\", 'Beauty']                                                                                  1\n",
       "[\"Men's\", \"Women's\", 'Children', 'Textiles']                                                                    1\n",
       "[\"Men's\", \"Women's\", 'Events']                                                                                  1\n",
       "[\"Men's\", \"Women's\", 'Fashion']                                                                                 7\n",
       "[\"Men's\", \"Women's\", 'Intellectual Property']                                                                   1\n",
       "[\"Men's\", \"Women's\", 'Lifestyle', 'Fashion']                                                                    1\n",
       "[\"Men's\", \"Women's\", 'Lifestyle']                                                                               1\n",
       "[\"Men's\", \"Women's\", 'Medical']                                                                                 1\n",
       "[\"Men's\", \"Women's\", 'Non Profit']                                                                              1\n",
       "[\"Men's\", \"Women's\", 'Textiles']                                                                                1\n",
       "[\"Men's\", 'Adventure Travel', \"Women's\"]                                                                        1\n",
       "[\"Men's\", 'Beauty', 'Jewelry']                                                                                  1\n",
       "[\"Men's\", 'Beauty', 'Lifestyle', 'Manufacturing']                                                               1\n",
       "[\"Men's\", 'Beauty', 'Lifestyle', 'Retail']                                                                      1\n",
       "[\"Men's\", 'Beauty', 'Lifestyle']                                                                                1\n",
       "[\"Men's\", 'Communities', 'Fashion']                                                                             2\n",
       "[\"Men's\", 'Consumer Electronics', 'Wellness']                                                                   1\n",
       "[\"Men's\", 'Consumer Goods', 'Lifestyle']                                                                        1\n",
       "[\"Men's\", 'Consumer', 'Consumer Goods', 'Beauty', 'Personal Health', 'Organic', 'Alternative Medicine']         1\n",
       "[\"Men's\", 'Dating', 'Online Portals']                                                                           1\n",
       "[\"Men's\", 'Delivery', 'Fashion']                                                                                1\n",
       "[\"Men's\", 'Digital Media', 'Social Media', 'Publishing']                                                        1\n",
       "[\"Men's\", 'E-Commerce', \"Women's\"]                                                                              2\n",
       "[\"Men's\", 'E-Commerce', 'Consumer Goods']                                                                       1\n",
       "[\"Men's\", 'E-Commerce', 'Cosmetics']                                                                            1\n",
       "[\"Men's\", 'E-Commerce', 'Fashion']                                                                              9\n",
       "[\"Men's\", 'E-Commerce', 'Lifestyle']                                                                            2\n",
       "[\"Men's\", 'E-Commerce', 'Manufacturing']                                                                        1\n",
       "[\"Men's\", 'E-Commerce', 'Retail', 'Fashion']                                                                    2\n",
       "                                                                                                            ...  \n",
       "['mHealth', 'Apps', 'Software']                                                                                 1\n",
       "['mHealth', 'Apps']                                                                                             1\n",
       "['mHealth', 'Automotive', 'Public Safety']                                                                      1\n",
       "['mHealth', 'Big Data']                                                                                         1\n",
       "['mHealth', 'Consulting', 'Knowledge Management', 'Innovation Management']                                      1\n",
       "['mHealth', 'Elderly', 'Hardware', 'Software', 'Internet of Things']                                            1\n",
       "['mHealth', 'Enterprise Software', 'Information Technology']                                                    1\n",
       "['mHealth', 'Enterprise Software']                                                                              4\n",
       "['mHealth', 'Hardware', 'Software', 'Cloud Data Services', 'Child Care']                                        1\n",
       "['mHealth', 'Hardware', 'Software', 'Internet of Things']                                                       1\n",
       "['mHealth', 'Hardware', 'Software']                                                                             1\n",
       "['mHealth', 'Health Insurance', 'Wellness', 'Information Technology']                                           1\n",
       "['mHealth', 'Internet of Things']                                                                               1\n",
       "['mHealth', 'Mobile']                                                                                           4\n",
       "['mHealth', 'Music', 'Mobile']                                                                                  1\n",
       "['mHealth', 'Professional Services']                                                                            3\n",
       "['mHealth', 'Public Relations', 'Customer Service']                                                             1\n",
       "['mHealth', 'SaaS', 'Health Care', 'Software']                                                                  1\n",
       "['mHealth', 'Software', 'Energy Efficiency', 'Clean Energy']                                                    1\n",
       "['mHealth', 'Software', 'Mobile']                                                                               1\n",
       "['mHealth', 'Software']                                                                                         1\n",
       "['mHealth', 'Training', 'Mobile']                                                                               1\n",
       "['mHealth', 'Veterinary']                                                                                       1\n",
       "['mHealth', 'Wellness', 'Gaming']                                                                               1\n",
       "['mHealth']                                                                                                    19\n",
       "['macOS', 'Android', 'VoIP', 'iOS', 'Messaging', 'Software', 'Telecommunications', 'Mobile']                    1\n",
       "['macOS', 'Android', 'iOS', 'Mobile Apps', 'Software', 'Windows']                                               1\n",
       "['macOS', 'iOS', 'Mobile Apps', 'Video Games', 'Productivity Tools']                                            1\n",
       "['macOS', 'iOS', 'Mobile Devices', 'Software']                                                                  1\n",
       "[]                                                                                                         171949\n",
       "Length: 103642, dtype: int64"
      ]
     },
     "execution_count": 5,
     "metadata": {},
     "output_type": "execute_result"
    }
   ],
   "source": [
    "df.groupby('categories').size()"
   ]
  },
  {
   "cell_type": "code",
   "execution_count": 14,
   "metadata": {},
   "outputs": [
    {
     "data": {
      "text/html": [
       "<div>\n",
       "<style scoped>\n",
       "    .dataframe tbody tr th:only-of-type {\n",
       "        vertical-align: middle;\n",
       "    }\n",
       "\n",
       "    .dataframe tbody tr th {\n",
       "        vertical-align: top;\n",
       "    }\n",
       "\n",
       "    .dataframe thead th {\n",
       "        text-align: right;\n",
       "    }\n",
       "</style>\n",
       "<table border=\"1\" class=\"dataframe\">\n",
       "  <thead>\n",
       "    <tr style=\"text-align: right;\">\n",
       "      <th></th>\n",
       "      <th>website</th>\n",
       "      <th>categories</th>\n",
       "      <th>short_description</th>\n",
       "    </tr>\n",
       "  </thead>\n",
       "  <tbody>\n",
       "    <tr>\n",
       "      <th>0</th>\n",
       "      <td>http://iFans.com</td>\n",
       "      <td>['News']</td>\n",
       "      <td>iFans is a community-based forum and portal th...</td>\n",
       "    </tr>\n",
       "    <tr>\n",
       "      <th>1</th>\n",
       "      <td>http://www.braingig.com</td>\n",
       "      <td>['Non Profit', 'Finance']</td>\n",
       "      <td>Connecting grant funders and seekers.</td>\n",
       "    </tr>\n",
       "    <tr>\n",
       "      <th>2</th>\n",
       "      <td>https://www.twinelabs.com/</td>\n",
       "      <td>[]</td>\n",
       "      <td>Twine is a powerful platform for internal mobi...</td>\n",
       "    </tr>\n",
       "    <tr>\n",
       "      <th>3</th>\n",
       "      <td>http://www.SumaGreen.com</td>\n",
       "      <td>['Biotechnology']</td>\n",
       "      <td>SumaGreen is an agro firm committed to enablin...</td>\n",
       "    </tr>\n",
       "    <tr>\n",
       "      <th>4</th>\n",
       "      <td>http://worldstartupreport.strikingly.com/</td>\n",
       "      <td>['Market Research', 'CleanTech', 'Clean Energy']</td>\n",
       "      <td>World Startup Report is a social mission to do...</td>\n",
       "    </tr>\n",
       "  </tbody>\n",
       "</table>\n",
       "</div>"
      ],
      "text/plain": [
       "                                     website  \\\n",
       "0                           http://iFans.com   \n",
       "1                    http://www.braingig.com   \n",
       "2                 https://www.twinelabs.com/   \n",
       "3                   http://www.SumaGreen.com   \n",
       "4  http://worldstartupreport.strikingly.com/   \n",
       "\n",
       "                                         categories  \\\n",
       "0                                          ['News']   \n",
       "1                         ['Non Profit', 'Finance']   \n",
       "2                                                []   \n",
       "3                                 ['Biotechnology']   \n",
       "4  ['Market Research', 'CleanTech', 'Clean Energy']   \n",
       "\n",
       "                                   short_description  \n",
       "0  iFans is a community-based forum and portal th...  \n",
       "1              Connecting grant funders and seekers.  \n",
       "2  Twine is a powerful platform for internal mobi...  \n",
       "3  SumaGreen is an agro firm committed to enablin...  \n",
       "4  World Startup Report is a social mission to do...  "
      ]
     },
     "execution_count": 14,
     "metadata": {},
     "output_type": "execute_result"
    }
   ],
   "source": [
    "df.head()"
   ]
  },
  {
   "cell_type": "code",
   "execution_count": 19,
   "metadata": {},
   "outputs": [
    {
     "data": {
      "text/plain": [
       "website              object\n",
       "categories           object\n",
       "short_description    object\n",
       "categories_list      object\n",
       "dtype: object"
      ]
     },
     "execution_count": 19,
     "metadata": {},
     "output_type": "execute_result"
    }
   ],
   "source": [
    "df.dtypes"
   ]
  },
  {
   "cell_type": "code",
   "execution_count": 20,
   "metadata": {},
   "outputs": [],
   "source": [
    "import ast\n",
    "def cut_array(l):\n",
    "    l_ = ast.literal_eval(l)\n",
    "    if len(l_)>2:\n",
    "        return l_[0:1]\n",
    "    else:\n",
    "        return l_\n",
    "\n",
    "df['categories_list'] = df['categories'].apply(lambda x: cut_array(x))\n",
    "df = df[df.categories != '[]']"
   ]
  },
  {
   "cell_type": "code",
   "execution_count": 21,
   "metadata": {},
   "outputs": [
    {
     "data": {
      "text/plain": [
       "0                                            ['News']\n",
       "1                           ['Non Profit', 'Finance']\n",
       "3                                   ['Biotechnology']\n",
       "4    ['Market Research', 'CleanTech', 'Clean Energy']\n",
       "5                          ['Accounting', 'Software']\n",
       "Name: categories, dtype: object"
      ]
     },
     "execution_count": 21,
     "metadata": {},
     "output_type": "execute_result"
    }
   ],
   "source": [
    "df['categories'].head()"
   ]
  },
  {
   "cell_type": "code",
   "execution_count": 23,
   "metadata": {},
   "outputs": [
    {
     "data": {
      "text/plain": [
       "categories\n",
       "[\"Men's\", \"Women's\", 'Beauty', 'Fashion']       1\n",
       "[\"Men's\", \"Women's\", 'Beauty']                  1\n",
       "[\"Men's\", \"Women's\", 'Children', 'Textiles']    1\n",
       "[\"Men's\", \"Women's\", 'Events']                  1\n",
       "[\"Men's\", \"Women's\", 'Fashion']                 7\n",
       "dtype: int64"
      ]
     },
     "execution_count": 23,
     "metadata": {},
     "output_type": "execute_result"
    }
   ],
   "source": [
    "df.groupby('categories').size().head()"
   ]
  },
  {
   "cell_type": "code",
   "execution_count": 28,
   "metadata": {},
   "outputs": [],
   "source": [
    "X = df.short_description.values\n",
    "y = df.categories_list.values"
   ]
  },
  {
   "cell_type": "markdown",
   "metadata": {},
   "source": [
    "The task is to predict not one but multiple categories for each observation. \n",
    "One of the solutions is to create a binary classifier for each unique category.\n",
    "It is fairly simple to do using scikit-learn but we need to create our own classifier.\n",
    "\n",
    "Task:\n",
    "\n",
    "1. Write a custom classifier to solve this.\n",
    "2. Evaluate its results (what measure could be good for comparing sets?)\n",
    "\n",
    "\n",
    "Hints:\n",
    "\n",
    "You can keep your classifiers in a dictionary `class name -> Classifier`\n",
    "Both in fit and predict you need to iterate over all unique classes."
   ]
  },
  {
   "cell_type": "code",
   "execution_count": 167,
   "metadata": {},
   "outputs": [
    {
     "name": "stdout",
     "output_type": "stream",
     "text": [
      "                                     website  \\\n",
      "0                           http://iFans.com   \n",
      "1                    http://www.braingig.com   \n",
      "2                 https://www.twinelabs.com/   \n",
      "3                   http://www.SumaGreen.com   \n",
      "4  http://worldstartupreport.strikingly.com/   \n",
      "\n",
      "                                         categories  \\\n",
      "0                                          ['News']   \n",
      "1                         ['Non Profit', 'Finance']   \n",
      "2                                                []   \n",
      "3                                 ['Biotechnology']   \n",
      "4  ['Market Research', 'CleanTech', 'Clean Energy']   \n",
      "\n",
      "                                   short_description  \n",
      "0  iFans is a community-based forum and portal th...  \n",
      "1              Connecting grant funders and seekers.  \n",
      "2  Twine is a powerful platform for internal mobi...  \n",
      "3  SumaGreen is an agro firm committed to enablin...  \n",
      "4  World Startup Report is a social mission to do...  \n"
     ]
    }
   ],
   "source": [
    "X, y = load_data()"
   ]
  },
  {
   "cell_type": "markdown",
   "metadata": {},
   "source": [
    "**Solution1**\n",
    "<div>\n",
    "def load_data():\n",
    "    df = pd.read_csv('data/categories.csv').loc[lambda x: x.short_description.str.len() > 10]\n",
    "    df['categories_list'] = df['categories'].apply(lambda x: cut_array(x))\n",
    "    df = df[df.categories != '[]']\n",
    "    print(df.head())\n",
    "    return df.short_description.values, df.categories_list.values\n",
    "\n",
    "from itertools import chain\n",
    "\n",
    "\n",
    "class OneVsRestClassifier(BaseEstimator, ClassifierMixin):\n",
    "    def __init__(self, base_estimator):\n",
    "        self.base_estimator = base_estimator\n",
    "        self.estimators = {}\n",
    "\n",
    "    def fit(self, X, y=None, sample_weight=None):\n",
    "        self.classes = np.unique([item for sub in y for item in sub])\n",
    "        print(\"Fitting\")\n",
    "        for cl in self.classes:\n",
    "            est_ = clone(self.base_estimator)\n",
    "            est_.fit(X, self._isin(y, cl))\n",
    "            self.estimators[cl] = est_\n",
    "        return self\n",
    "\n",
    "    def predict(self, X):\n",
    "        print(\"Predicting\")\n",
    "        outputs = [[] for _ in range(X.shape[0])]\n",
    "        for cl in self.classes:\n",
    "            true_indices = np.where(self.estimators[cl].predict(X) == 1)[0]\n",
    "            for i in true_indices:\n",
    "                outputs[i].append(cl)\n",
    "        return outputs\n",
    "    \n",
    "    def _isin(self, ys, cl):\n",
    "        return np.array([cl in y for y in ys], dtype=np.int)\n",
    "    \n",
    "    \n",
    "def f1(true, pred):\n",
    "    if len(pred) == 0:\n",
    "        return 0\n",
    "    tp = len(set(true).intersection(set(pred)))\n",
    "    precision = tp / len(pred)\n",
    "    recall = tp / len(true)\n",
    "    if (precision + recall) == 0:\n",
    "        return 0\n",
    "    else:\n",
    "        return (2 * precision * recall / (precision + recall))\n",
    "    \n",
    "    \n",
    "def model_definition_words() -> Pipeline:\n",
    "    est = make_pipeline(\n",
    "        CountVectorizer(min_df=5, binary=True, analyzer='word'),\n",
    "        OneVsRestClassifier(base_estimator=RandomForestClassifier())\n",
    "    )\n",
    "    return est\n",
    "\n",
    "\n",
    "def validate_model_multiple_outputs():\n",
    "    print('Loading data')\n",
    "    X, y = load_data()\n",
    "    \n",
    "    X_tr, X_te, y_tr, y_te = train_test_split(X[:10000], y[:10000], random_state=1)\n",
    "    est = model_definition_words()\n",
    "    est.fit(X_tr, y_tr)\n",
    "    preds = est.predict(X_te)\n",
    "    mean_f1 = np.array([f1(true, pred) for true, pred in zip(y_te, preds)]).mean()\n",
    "    print(\"Multiple Labels F1\", mean_f1)\n",
    "    \n",
    "validate_model_multiple_outputs()\n",
    "</div>"
   ]
  },
  {
   "cell_type": "markdown",
   "metadata": {},
   "source": [
    "**Solution 2**\n",
    "<div>\n",
    "\n",
    "def load_data():\n",
    "    df = pd.read_csv('data/categories.csv').loc[lambda x: x.short_description.str.len() > 10]\n",
    "    print(df.head())\n",
    "    return df.short_description.values, df.categories.values\n",
    "\n",
    "\n",
    "class OneVsRestClassifier(BaseEstimator, ClassifierMixin):\n",
    "    def __init__(self, base_estimator):\n",
    "        self.base_estimator = base_estimator\n",
    "        self.estimators = {}\n",
    "\n",
    "    def fit(self, X, y=None, sample_weight=None):\n",
    "        self.classes = list(set(chain(*y)))\n",
    "        print(\"Fitting\")\n",
    "        for cl in self.classes:\n",
    "            est_ = clone(self.base_estimator)\n",
    "            est_.fit(X, self._isin(y, cl))\n",
    "            self.estimators[cl] = est_\n",
    "        return self\n",
    "\n",
    "    def predict(self, X):\n",
    "        print(\"Predicting\")\n",
    "        outputs = [[] for _ in range(X.shape[0])]\n",
    "        for cl in self.classes:\n",
    "            true_indices = np.where(self.estimators[cl].predict(X) == 1)[0]\n",
    "            for i in true_indices:\n",
    "                outputs[i].append(cl)\n",
    "        return outputs\n",
    "\n",
    "    def _isin(self, ys, cl):\n",
    "        return np.array([cl in y for y in ys], dtype=np.int)\n",
    "    \n",
    "    \n",
    "def f1(true, pred):\n",
    "    if len(pred) == 0:\n",
    "        return 0\n",
    "    tp = len(set(true).intersection(set(pred)))\n",
    "    precision = tp / len(pred)\n",
    "    recall = tp / len(true)\n",
    "    if (precision + recall) == 0:\n",
    "        return 0\n",
    "    else:\n",
    "        return (2 * precision * recall / (precision + recall))\n",
    "    \n",
    "    \n",
    "def model_definition_words() -> Pipeline:\n",
    "    est = make_pipeline(\n",
    "        CountVectorizer(min_df=5, binary=True, analyzer='word'),\n",
    "        OneVsRestClassifier(base_estimator=RandomForestClassifier(n_estimators=100, min_samples_leaf=10, min_samples_split=20,\n",
    "                                                        n_jobs=-2))\n",
    "    )\n",
    "    return est\n",
    "\n",
    "\n",
    "def validate_model_multiple_outputs():\n",
    "    print('Loading data')\n",
    "    X, y = load_data()\n",
    "    X_tr, X_te, y_tr, y_te = train_test_split(X[:10000], y[:10000], random_state=1)\n",
    "    est = model_definition_words()\n",
    "    est.fit(X_tr, y_tr)\n",
    "    preds = est.predict(X_te)\n",
    "    mean_f1 = np.array([f1(true, pred) for true, pred in zip(y_te, preds)]).mean()\n",
    "    print(\"Multiple Labels F1\", mean_f1)\n",
    "    \n",
    "validate_model_multiple_outputs()\n",
    "</div>"
   ]
  },
  {
   "cell_type": "code",
   "execution_count": null,
   "metadata": {},
   "outputs": [],
   "source": []
  }
 ],
 "metadata": {
  "kernelspec": {
   "display_name": "Python 3",
   "language": "python",
   "name": "python3"
  },
  "language_info": {
   "codemirror_mode": {
    "name": "ipython",
    "version": 3
   },
   "file_extension": ".py",
   "mimetype": "text/x-python",
   "name": "python",
   "nbconvert_exporter": "python",
   "pygments_lexer": "ipython3",
   "version": "3.6.4"
  }
 },
 "nbformat": 4,
 "nbformat_minor": 2
}
